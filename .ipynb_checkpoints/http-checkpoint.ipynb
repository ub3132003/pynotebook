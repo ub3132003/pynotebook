{
 "cells": [
  {
   "cell_type": "markdown",
   "metadata": {},
   "source": [
    "# 基本方法"
   ]
  },
  {
   "cell_type": "code",
   "execution_count": 2,
   "metadata": {},
   "outputs": [],
   "source": [
    "\n",
    "import requests\n",
    "\n",
    "\n"
   ]
  },
  {
   "cell_type": "code",
   "execution_count": 3,
   "metadata": {},
   "outputs": [],
   "source": [
    "ip = \"http://192.168.1.111:9001\""
   ]
  },
  {
   "cell_type": "code",
   "execution_count": 4,
   "metadata": {},
   "outputs": [
    {
     "name": "stdout",
     "output_type": "stream",
     "text": [
      "404\n"
     ]
    }
   ],
   "source": [
    "#获取version\n",
    "response = requests.get('http://192.168.1.111:9001/verify/face/gets?imageId=b193b8ca56024bdba3620879da6b508',headers={\"Content-Type\":\"application/json\"})\n",
    "print (response.status_code)\n",
    "# print (response.reason)\n",
    "# print(response.headers)\n",
    "# print(response.content)\n",
    "#print(response.text)"
   ]
  },
  {
   "cell_type": "code",
   "execution_count": 4,
   "metadata": {},
   "outputs": [
    {
     "name": "stdout",
     "output_type": "stream",
     "text": [
      "{\"result\": \"success\", \"feature\": \"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\", \"rect\": [170, 57, 253, 139], \"quality\": 0.8734660744667053, \"saturation\": 91.42909646034241, \"yaw\": -4.5948872566223145, \"pitch\": 8.252676010131836, \"roll\": 12.134283065795898, \"time_used\": 82}\n"
     ]
    }
   ],
   "source": [
    "#单图特征\n",
    "def get_image_feature( target_image_path):\n",
    "        url = ip + \"/verify/feature/gets\"\n",
    "\n",
    "        files = {'imageData': open(target_image_path, 'rb')}\n",
    "        r = requests.post(url, files=files)\n",
    "          \n",
    "        return r.text\n",
    "\n",
    "print(get_image_feature( r\"C:\\Users\\user\\Pictures\\2002\\07\\19\\big\\img_18.jpg\"))"
   ]
  },
  {
   "cell_type": "markdown",
   "metadata": {},
   "source": [
    "# 多文件上传 "
   ]
  },
  {
   "cell_type": "code",
   "execution_count": 5,
   "metadata": {},
   "outputs": [
    {
     "data": {
      "text/plain": [
       "'{\"result\": \"success\", \"success\": [{\"name\": \"a\", \"imageId\": \"9bf4ca0bdd0349489c16a57bc20a0e87\", \"personId\": \"9bf4ca0bdd0349489c16a57bc20a0e87\", \"feature\": \"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\", \"rect\": [170, 57, 253, 139], \"quality\": 0.8734659552574158, \"yaw\": -4.594899654388428, \"pitch\": 8.252676010131836, \"roll\": 12.134283065795898, \"saturation\": 91.42909646034241}, {\"name\": \"a\", \"imageId\": \"edd740be1f1e45f08a27bc5971d27f06\", \"personId\": \"edd740be1f1e45f08a27bc5971d27f06\", \"feature\": \"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\", \"rect\": [97, 111, 235, 247], \"quality\": 0.913903534412384, \"yaw\": 7.814528465270996, \"pitch\": 2.7092883586883545, \"roll\": -2.9607326984405518, \"saturation\": 92.54492521286011}, {\"name\": \"a\", \"imageId\": \"38d6f7e7c83b415c86ee2b4626b8862e\", \"personId\": \"38d6f7e7c83b415c86ee2b4626b8862e\", \"feature\": \"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\", \"rect\": [124, 176, 293, 343], \"quality\": 0.9185799956321716, \"yaw\": 3.930812120437622, \"pitch\": 10.804423332214355, \"roll\": 1.8051644563674927, \"saturation\": 95.29322385787964}], \"fail\": [], \"time_used\": 118}'"
      ]
     },
     "execution_count": 5,
     "metadata": {},
     "output_type": "execute_result"
    }
   ],
   "source": [
    "# 多张特征\n",
    "def get_batch_image_features(target_image_path_list):\n",
    "        global ip\n",
    "        if target_image_path_list is None or len(target_image_path_list) == 0:\n",
    "            return None\n",
    "\n",
    "        url = ip + \"/verify/feature/batchGet\"\n",
    "        file_obj_list=[]\n",
    "      #  file_obj_list = {\"imageDatas\":(\"im1\",open(target_image_path_list[0], 'rb'))}\n",
    "       # file=open(target_image_path_list[0], 'rb')\n",
    "        for target_image_path in target_image_path_list:\n",
    "            with open(target_image_path, 'rb') as f:\n",
    "                file_obj_list.append(\n",
    "                    (\"imageDatas\",(\"a\",f.read()))\n",
    "                ) #list 法 \n",
    "                \n",
    "            \n",
    "        \n",
    "        r = requests.post(url, files=file_obj_list)\n",
    "        return r.text\n",
    "imageList=[r\"C:\\Users\\user\\Pictures\\2002\\07\\19\\big\\img_18.jpg\",r\"C:\\Users\\user\\Pictures\\2002\\07\\19\\big\\img_90.jpg\",r\"C:\\Users\\user\\Pictures\\2002\\07\\19\\big\\img_209.jpg\"]\n",
    "get_batch_image_features(imageList)"
   ]
  },
  {
   "cell_type": "code",
   "execution_count": null,
   "metadata": {},
   "outputs": [],
   "source": []
  },
  {
   "cell_type": "code",
   "execution_count": 6,
   "metadata": {},
   "outputs": [
    {
     "data": {
      "text/plain": [
       "'{\"result\": \"success\", \"success\": [{\"name\": \"a\", \"imageId\": \"e9a86a4a0dfd4904a569cf2ed53548a4\", \"personId\": \"e9a86a4a0dfd4904a569cf2ed53548a4\", \"qualityScore\": 87.35, \"size\": [348.0, 450.0], \"rect\": [170, 57, 253, 139], \"yaw\": -4.594899654388428, \"pitch\": 8.252676010131836, \"roll\": 12.134283065795898, \"saturation\": 91.42909646034241}, {\"name\": \"a\", \"imageId\": \"97974f36da3540c88b2d7adceb7c2cd0\", \"personId\": \"97974f36da3540c88b2d7adceb7c2cd0\", \"qualityScore\": 91.39, \"size\": [319.0, 450.0], \"rect\": [97, 111, 235, 247], \"yaw\": 7.814528465270996, \"pitch\": 2.7092883586883545, \"roll\": -2.9607326984405518, \"saturation\": 92.54492521286011}, {\"name\": \"a\", \"imageId\": \"747c5d18860a43748f7afc4f2c75e063\", \"personId\": \"747c5d18860a43748f7afc4f2c75e063\", \"qualityScore\": 91.86, \"size\": [359.0, 450.0], \"rect\": [124, 176, 293, 343], \"yaw\": 3.930812120437622, \"pitch\": 10.804423332214355, \"roll\": 1.8051644563674927, \"saturation\": 95.29322385787964}], \"fail\": [], \"time_used\": 129}'"
      ]
     },
     "execution_count": 6,
     "metadata": {},
     "output_type": "execute_result"
    }
   ],
   "source": [
    "# 多add\n",
    "data={\"dbName\":\"sj1\",\"getFeature\":1}\n",
    "def add_image (target_image_path_list):\n",
    "        global ip\n",
    "        if target_image_path_list is None or len(target_image_path_list) == 0:\n",
    "            return None\n",
    "\n",
    "        url = ip + \"/verify/face/synAdd\"\n",
    "        file_obj_list=[]\n",
    "      #  file_obj_list = {\"imageDatas\":(\"im1\",open(target_image_path_list[0], 'rb'))}\n",
    "       # file=open(target_image_path_list[0], 'rb')\n",
    "        for target_image_path in target_image_path_list:\n",
    "            with open(target_image_path, 'rb') as f:\n",
    "                file_obj_list.append(\n",
    "                    (\"imageDatas\",(\"a\",f.read()))\n",
    "                ) #list 法 \n",
    "                \n",
    "            \n",
    "        \n",
    "        r = requests.post(url ,data=data,files=file_obj_list)\n",
    "        return r.text\n",
    "imageList=[r\"C:\\Users\\user\\Pictures\\2002\\07\\19\\big\\img_18.jpg\",r\"C:\\Users\\user\\Pictures\\2002\\07\\19\\big\\img_90.jpg\",r\"C:\\Users\\user\\Pictures\\2002\\07\\19\\big\\img_209.jpg\"]\n",
    "add_image(imageList)"
   ]
  },
  {
   "cell_type": "code",
   "execution_count": 2,
   "metadata": {},
   "outputs": [
    {
     "data": {
      "text/plain": [
       "1"
      ]
     },
     "execution_count": 2,
     "metadata": {},
     "output_type": "execute_result"
    }
   ],
   "source": [
    "# 搜索图片\n",
    "len([None])"
   ]
  },
  {
   "cell_type": "code",
   "execution_count": null,
   "metadata": {},
   "outputs": [],
   "source": [
    "# post\n",
    "\n",
    "import requests\n",
    "url = ip + \"/api/getImageIdInfo\"\n",
    "r = requests.post(url ,data=data)\n",
    "\n",
    "print(r.text)"
   ]
  }
 ],
 "metadata": {
  "kernelspec": {
   "display_name": "Python 3",
   "language": "python",
   "name": "python3"
  },
  "language_info": {
   "codemirror_mode": {
    "name": "ipython",
    "version": 3
   },
   "file_extension": ".py",
   "mimetype": "text/x-python",
   "name": "python",
   "nbconvert_exporter": "python",
   "pygments_lexer": "ipython3",
   "version": "3.6.2"
  }
 },
 "nbformat": 4,
 "nbformat_minor": 2
}
