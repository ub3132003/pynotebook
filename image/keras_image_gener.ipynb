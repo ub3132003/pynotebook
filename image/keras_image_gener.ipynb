{
 "cells": [
  {
   "cell_type": "code",
   "execution_count": 50,
   "metadata": {},
   "outputs": [
    {
     "name": "stdout",
     "output_type": "stream",
     "text": [
      "X:\\share\\image\\lfw_classfiy_image_equel1_gener\\Abdullah_Gul\\Abdullah_Gul_0001.png\n",
      "(1, 160, 160, 3)\n",
      "(1, 160, 160, 3)\n",
      "(1, 160, 160, 3)\n",
      "(1, 160, 160, 3)\n",
      "(1, 160, 160, 3)\n",
      "(1, 160, 160, 3)\n",
      "(1, 160, 160, 3)\n",
      "(1, 160, 160, 3)\n",
      "(1, 160, 160, 3)\n",
      "(1, 160, 160, 3)\n",
      "(1, 160, 160, 3)\n",
      "(1, 160, 160, 3)\n",
      "(1, 160, 160, 3)\n",
      "(1, 160, 160, 3)\n",
      "(1, 160, 160, 3)\n",
      "(1, 160, 160, 3)\n",
      "(1, 160, 160, 3)\n",
      "(1, 160, 160, 3)\n",
      "(1, 160, 160, 3)\n",
      "(1, 160, 160, 3)\n",
      "(1, 160, 160, 3)\n"
     ]
    }
   ],
   "source": [
    "import keras\n",
    "from keras.preprocessing.image import ImageDataGenerator\n",
    "import matplotlib.pyplot as plt \n",
    "src_path=r\"X:\\share\\image\\lfw_classfiy_image_equel1_gener\"\n",
    "dst_path=r\"X:\\share\\image\\lfw_classfiy_image_equel1_gener\\Abdullah_Gul\\1\"\n",
    "\n",
    "\n",
    "#coding:utf-8\n",
    "from keras.preprocessing.image import ImageDataGenerator,load_img,img_to_array\n",
    " \n",
    "#定义图片生成器\n",
    "data_gen = ImageDataGenerator(rotation_range=40,\n",
    "                              width_shift_range=0.2,\n",
    "                              height_shift_range=0.2,\n",
    "                              horizontal_flip=True,\n",
    "                              vertical_flip=True,\n",
    "                              fill_mode='nearest',\n",
    "                              data_format='channels_last')\n",
    " \n",
    "imgfile=Path(src_path).rglob(\"*.png\").__next__()\n",
    "print(imgfile)\n",
    "img=load_img(imgfile)\n",
    "\n",
    "x = img_to_array(img,data_format=\"channels_last\")   #图片转化成array类型,因flow()接收numpy数组为参数\n",
    "x=x.reshape((1,) + x.shape)     #要求为4维\n",
    " \n",
    "#使用for循环迭代,生成图片\n",
    "i = 0\n",
    "for batch in data_gen.flow(x,batch_size=1,\n",
    "                           save_to_dir=dst_path,\n",
    "                           save_prefix='flower',\n",
    "                           save_format='jpg'):\n",
    "    print (batch.shape)\n",
    "    i += 1\n",
    "    if i>20:\n",
    "        break\n",
    "        \n",
    "# #使用next()迭代,生成图片\n",
    "# next(data_gen.flow(x,batch_size=2,\n",
    "#                    save_to_dir=dst_path,\n",
    "#                    save_prefix='next_gen',\n",
    "#                    save_format='jpg'))\n"
   ]
  },
  {
   "cell_type": "code",
   "execution_count": 52,
   "metadata": {},
   "outputs": [
    {
     "name": "stdout",
     "output_type": "stream",
     "text": [
      "Found 143 images belonging to 143 classes.\n"
     ]
    }
   ],
   "source": [
    "from keras.preprocessing.image import ImageDataGenerator, array_to_img, img_to_array, load_img\n",
    "import numpy as np\n",
    "datagen = ImageDataGenerator(\n",
    "        rotation_range=40,\n",
    "        width_shift_range=0.2,\n",
    "        height_shift_range=0.2,\n",
    "        shear_range=0.2,\n",
    "        zoom_range=0.2,\n",
    "        horizontal_flip=True,\n",
    "        fill_mode='nearest')\n",
    " \n",
    "gener=datagen.flow_from_directory(src_path,\n",
    "                                         batch_size=2,\n",
    "                                         shuffle=False,\n",
    "                                         save_to_dir=dst_path,\n",
    "                                         save_prefix='trans_',\n",
    "                                         save_format='jpg')\n",
    "for i in range(3):\n",
    "    gener.next()\n"
   ]
  }
 ],
 "metadata": {
  "kernelspec": {
   "display_name": "Python 3",
   "language": "python",
   "name": "python3"
  },
  "language_info": {
   "codemirror_mode": {
    "name": "ipython",
    "version": 3
   },
   "file_extension": ".py",
   "mimetype": "text/x-python",
   "name": "python",
   "nbconvert_exporter": "python",
   "pygments_lexer": "ipython3",
   "version": "3.6.6"
  },
  "toc": {
   "base_numbering": 1,
   "nav_menu": {},
   "number_sections": true,
   "sideBar": true,
   "skip_h1_title": false,
   "title_cell": "Table of Contents",
   "title_sidebar": "Contents",
   "toc_cell": false,
   "toc_position": {},
   "toc_section_display": true,
   "toc_window_display": false
  }
 },
 "nbformat": 4,
 "nbformat_minor": 2
}
