{
 "cells": [
  {
   "cell_type": "markdown",
   "metadata": {},
   "source": [
    "# 类型转换 "
   ]
  },
  {
   "cell_type": "code",
   "execution_count": null,
   "metadata": {},
   "outputs": [],
   "source": [
    "#把所有 bool 转int\n",
    "for u in issame_pd.columns:\n",
    "    if issame_pd[u].dtype==bool:\n",
    "        issame_pd[u]=issame_pd[u].astype('int')\n"
   ]
  },
  {
   "cell_type": "markdown",
   "metadata": {},
   "source": [
    "# 添加行列  [cankao](https://blog.csdn.net/claroja/article/details/65661826)"
   ]
  },
  {
   "cell_type": "code",
   "execution_count": 7,
   "metadata": {},
   "outputs": [
    {
     "data": {
      "text/html": [
       "<div>\n",
       "<style scoped>\n",
       "    .dataframe tbody tr th:only-of-type {\n",
       "        vertical-align: middle;\n",
       "    }\n",
       "\n",
       "    .dataframe tbody tr th {\n",
       "        vertical-align: top;\n",
       "    }\n",
       "\n",
       "    .dataframe thead th {\n",
       "        text-align: right;\n",
       "    }\n",
       "</style>\n",
       "<table border=\"1\" class=\"dataframe\">\n",
       "  <thead>\n",
       "    <tr style=\"text-align: right;\">\n",
       "      <th></th>\n",
       "      <th>one</th>\n",
       "      <th>two</th>\n",
       "      <th>three</th>\n",
       "      <th>four</th>\n",
       "    </tr>\n",
       "  </thead>\n",
       "  <tbody>\n",
       "    <tr>\n",
       "      <th>a</th>\n",
       "      <td>0</td>\n",
       "      <td>1</td>\n",
       "      <td>2</td>\n",
       "      <td>3</td>\n",
       "    </tr>\n",
       "    <tr>\n",
       "      <th>b</th>\n",
       "      <td>4</td>\n",
       "      <td>5</td>\n",
       "      <td>6</td>\n",
       "      <td>7</td>\n",
       "    </tr>\n",
       "    <tr>\n",
       "      <th>c</th>\n",
       "      <td>8</td>\n",
       "      <td>9</td>\n",
       "      <td>10</td>\n",
       "      <td>11</td>\n",
       "    </tr>\n",
       "    <tr>\n",
       "      <th>d</th>\n",
       "      <td>12</td>\n",
       "      <td>13</td>\n",
       "      <td>14</td>\n",
       "      <td>15</td>\n",
       "    </tr>\n",
       "  </tbody>\n",
       "</table>\n",
       "</div>"
      ],
      "text/plain": [
       "   one  two  three  four\n",
       "a    0    1      2     3\n",
       "b    4    5      6     7\n",
       "c    8    9     10    11\n",
       "d   12   13     14    15"
      ]
     },
     "execution_count": 7,
     "metadata": {},
     "output_type": "execute_result"
    }
   ],
   "source": [
    "import numpy as np\n",
    "\n",
    "df=pd.DataFrame(np.arange(16).reshape((4,4)),index=['a','b','c','d'],columns=['one','two','three','four']) \n",
    "df"
   ]
  },
  {
   "cell_type": "code",
   "execution_count": 9,
   "metadata": {},
   "outputs": [
    {
     "data": {
      "text/html": [
       "<div>\n",
       "<style scoped>\n",
       "    .dataframe tbody tr th:only-of-type {\n",
       "        vertical-align: middle;\n",
       "    }\n",
       "\n",
       "    .dataframe tbody tr th {\n",
       "        vertical-align: top;\n",
       "    }\n",
       "\n",
       "    .dataframe thead th {\n",
       "        text-align: right;\n",
       "    }\n",
       "</style>\n",
       "<table border=\"1\" class=\"dataframe\">\n",
       "  <thead>\n",
       "    <tr style=\"text-align: right;\">\n",
       "      <th></th>\n",
       "      <th>one</th>\n",
       "      <th>two</th>\n",
       "      <th>three</th>\n",
       "      <th>four</th>\n",
       "      <th>column</th>\n",
       "    </tr>\n",
       "  </thead>\n",
       "  <tbody>\n",
       "    <tr>\n",
       "      <th>a</th>\n",
       "      <td>0</td>\n",
       "      <td>1</td>\n",
       "      <td>2</td>\n",
       "      <td>3</td>\n",
       "      <td>a</td>\n",
       "    </tr>\n",
       "    <tr>\n",
       "      <th>b</th>\n",
       "      <td>4</td>\n",
       "      <td>5</td>\n",
       "      <td>6</td>\n",
       "      <td>7</td>\n",
       "      <td>a</td>\n",
       "    </tr>\n",
       "    <tr>\n",
       "      <th>c</th>\n",
       "      <td>8</td>\n",
       "      <td>9</td>\n",
       "      <td>10</td>\n",
       "      <td>11</td>\n",
       "      <td>a</td>\n",
       "    </tr>\n",
       "    <tr>\n",
       "      <th>d</th>\n",
       "      <td>12</td>\n",
       "      <td>13</td>\n",
       "      <td>14</td>\n",
       "      <td>15</td>\n",
       "      <td>a</td>\n",
       "    </tr>\n",
       "    <tr>\n",
       "      <th>new</th>\n",
       "      <td>3</td>\n",
       "      <td>3</td>\n",
       "      <td>3</td>\n",
       "      <td>3</td>\n",
       "      <td>a</td>\n",
       "    </tr>\n",
       "  </tbody>\n",
       "</table>\n",
       "</div>"
      ],
      "text/plain": [
       "    one two three four column\n",
       "a     0   1     2    3      a\n",
       "b     4   5     6    7      a\n",
       "c     8   9    10   11      a\n",
       "d    12  13    14   15      a\n",
       "new   3   3     3    3      a"
      ]
     },
     "execution_count": 9,
     "metadata": {},
     "output_type": "execute_result"
    }
   ],
   "source": [
    "#行\n",
    "df.loc[\"new\"]='3'\n",
    "#列\n",
    "df['column']=\"a\"\n",
    "df"
   ]
  },
  {
   "cell_type": "markdown",
   "metadata": {},
   "source": [
    "## 插入或更改一行"
   ]
  },
  {
   "cell_type": "code",
   "execution_count": 15,
   "metadata": {},
   "outputs": [
    {
     "data": {
      "text/html": [
       "<div>\n",
       "<style scoped>\n",
       "    .dataframe tbody tr th:only-of-type {\n",
       "        vertical-align: middle;\n",
       "    }\n",
       "\n",
       "    .dataframe tbody tr th {\n",
       "        vertical-align: top;\n",
       "    }\n",
       "\n",
       "    .dataframe thead th {\n",
       "        text-align: right;\n",
       "    }\n",
       "</style>\n",
       "<table border=\"1\" class=\"dataframe\">\n",
       "  <thead>\n",
       "    <tr style=\"text-align: right;\">\n",
       "      <th></th>\n",
       "      <th>1</th>\n",
       "      <th>2</th>\n",
       "      <th>3</th>\n",
       "      <th>4</th>\n",
       "      <th>5</th>\n",
       "    </tr>\n",
       "  </thead>\n",
       "  <tbody>\n",
       "    <tr>\n",
       "      <th>a</th>\n",
       "      <td>0</td>\n",
       "      <td>1</td>\n",
       "      <td>2</td>\n",
       "      <td>3</td>\n",
       "      <td>1</td>\n",
       "    </tr>\n",
       "    <tr>\n",
       "      <th>b</th>\n",
       "      <td>4</td>\n",
       "      <td>5</td>\n",
       "      <td>6</td>\n",
       "      <td>7</td>\n",
       "      <td>2</td>\n",
       "    </tr>\n",
       "    <tr>\n",
       "      <th>c</th>\n",
       "      <td>8</td>\n",
       "      <td>9</td>\n",
       "      <td>10</td>\n",
       "      <td>11</td>\n",
       "      <td>3</td>\n",
       "    </tr>\n",
       "    <tr>\n",
       "      <th>d</th>\n",
       "      <td>12</td>\n",
       "      <td>13</td>\n",
       "      <td>14</td>\n",
       "      <td>15</td>\n",
       "      <td>4</td>\n",
       "    </tr>\n",
       "    <tr>\n",
       "      <th>new</th>\n",
       "      <td>2</td>\n",
       "      <td>2</td>\n",
       "      <td>2</td>\n",
       "      <td>2</td>\n",
       "      <td>5</td>\n",
       "    </tr>\n",
       "  </tbody>\n",
       "</table>\n",
       "</div>"
      ],
      "text/plain": [
       "      1   2   3   4  5\n",
       "a     0   1   2   3  1\n",
       "b     4   5   6   7  2\n",
       "c     8   9  10  11  3\n",
       "d    12  13  14  15  4\n",
       "new   2   2   2   2  5"
      ]
     },
     "execution_count": 15,
     "metadata": {},
     "output_type": "execute_result"
    }
   ],
   "source": [
    "# 修改列名\n",
    "df.columns=[1,2,3,4,5]\n",
    "df"
   ]
  },
  {
   "cell_type": "code",
   "execution_count": null,
   "metadata": {},
   "outputs": [],
   "source": []
  },
  {
   "cell_type": "markdown",
   "metadata": {},
   "source": [
    "# 表格创建和并列"
   ]
  },
  {
   "cell_type": "code",
   "execution_count": 14,
   "metadata": {},
   "outputs": [
    {
     "name": "stdout",
     "output_type": "stream",
     "text": [
      "0    0\n",
      "1    1\n",
      "2    2\n",
      "3    3\n",
      "4    4\n",
      "5    5\n",
      "6    6\n",
      "dtype: int64\n",
      "   0  1\n",
      "0  0  0\n",
      "1  1  1\n",
      "2  2  2\n",
      "3  3  3\n",
      "4  4  4\n",
      "5  5  5\n",
      "6  6  6\n"
     ]
    }
   ],
   "source": [
    "import pandas as pd\n",
    "df1=pd.Series(range(7))\n",
    "print(df1)\n",
    "result = pd.concat([df1, df1], axis=1)\n",
    "print(result)\n",
    "saveCsv=pd.DataFrame( result)\n",
    "saveCsv.to_csv(\"tagData.csv\", index=True, sep=',')"
   ]
  },
  {
   "cell_type": "markdown",
   "metadata": {},
   "source": [
    "# 写数组到CSV"
   ]
  },
  {
   "cell_type": "code",
   "execution_count": 7,
   "metadata": {},
   "outputs": [],
   "source": [
    "\n",
    "import random\n",
    "import time\n",
    "import pandas as pd\n",
    "import numpy as np\n",
    "tagData=np.array(range(16)).reshape(4,4)\n",
    "#tagData=np.array([\"2\",3,\"d\"])\n",
    "saveCsv=pd.DataFrame( tagData)\n",
    "saveCsv.to_csv(\"tagData.csv\", index=True, sep=',')"
   ]
  },
  {
   "cell_type": "markdown",
   "metadata": {},
   "source": [
    "# 写字典数组 到csv"
   ]
  },
  {
   "cell_type": "code",
   "execution_count": 5,
   "metadata": {},
   "outputs": [],
   "source": [
    "\n",
    "import random\n",
    "import time\n",
    "import pandas as pd\n",
    "Len=10\n",
    "tagData=[{\"d1\":1,\"d2\":2,\"d3\":3}]\n",
    "\n",
    "dataMapD1=[random.uniform(0.2,0.997) for i in range(Len)]\n",
    "dataMapD2=[random.uniform(time.time()-1000,time.time()+1000) for i in range(Len)]\n",
    "dataMapD3=[(random.uniform(116.403406-10,116.403406+10),random.uniform(39.914935-10,39.914935+10)) for i in range(Len)]\n",
    "tagData=[{\"d1\":i,\"d2\":j,\"d3\":k} for i ,j,k in zip(dataMapD1,dataMapD2,dataMapD3)]\n",
    "\n",
    "saveCsv=pd.DataFrame( tagData)\n",
    "saveCsv.to_csv(\"tagData.csv\", index=False, sep=',')"
   ]
  },
  {
   "cell_type": "markdown",
   "metadata": {},
   "source": [
    "# 读取csv\n"
   ]
  },
  {
   "cell_type": "code",
   "execution_count": 14,
   "metadata": {},
   "outputs": [
    {
     "data": {
      "text/plain": [
       "array([[9.25820520e-01, 0.00000000e+00, 0.00000000e+00],\n",
       "       [5.73390141e-01, 0.00000000e+00, 1.00000000e+00],\n",
       "       [5.87105192e-01, 0.00000000e+00, 2.00000000e+00],\n",
       "       ...,\n",
       "       [6.17144736e-01, 9.99000000e+02, 9.97000000e+02],\n",
       "       [7.65132661e-01, 9.99000000e+02, 9.98000000e+02],\n",
       "       [9.51687381e-01, 9.99000000e+02, 9.99000000e+02]])"
      ]
     },
     "execution_count": 14,
     "metadata": {},
     "output_type": "execute_result"
    }
   ],
   "source": [
    "data =pd.read_csv(r\"C:\\Users\\user\\OneDrive\\code space\\python\\1notebook\\data\\tagData.csv\")\n",
    "\n",
    "data.values"
   ]
  },
  {
   "cell_type": "code",
   "execution_count": null,
   "metadata": {},
   "outputs": [],
   "source": [
    "saveCsv.hand()  头几行数据"
   ]
  },
  {
   "cell_type": "markdown",
   "metadata": {},
   "source": [
    "# 读取数据库 "
   ]
  },
  {
   "cell_type": "code",
   "execution_count": 2,
   "metadata": {},
   "outputs": [
    {
     "name": "stdout",
     "output_type": "stream",
     "text": [
      "               idcard nation name sex  memo avatar     create_datetime  \\\n",
      "0  652923199002201816     汉族   王飞   男  null   None 2018-09-06 15:39:50   \n",
      "1  653122198809204416     汉族   王飞   男  null   None 2018-09-06 16:34:29   \n",
      "2  652924198910120546     汉族   王飞   女  null   None 2018-09-06 19:48:02   \n",
      "3  652324198210212818     汉族   王飞   男  null   None 2018-09-07 10:23:04   \n",
      "\n",
      "                                          image_path     id  \n",
      "0  /app/id_img/cb0/2ec/cb02ecb6-00b9-4839-9cd3-c2...  23719  \n",
      "1  /app/id_img/0a6/224/0a622493-5a6e-48bb-a1e9-fa...  27973  \n",
      "2  /app/id_img/afb/ada/afbada74-8fc2-4900-914b-ca...  37914  \n",
      "3  /app/id_img/db8/378/db8378ab-826d-44df-a6a7-58...  40541  \n"
     ]
    }
   ],
   "source": [
    "# mysql\n",
    "import pandas as pd\n",
    "import pymysql \n",
    "db = pymysql.connect(host='localhost',port=3306,user='root',passwd='123456',charset='UTF8',db='id_info_cahe_copy') \n",
    "cur = db.cursor() \n",
    "\n",
    "sql=\"\"\"SELECT\n",
    "id_info.idcard,\n",
    "id_info.nation,\n",
    "id_info.`name`,\n",
    "id_info.sex,\n",
    "id_info.memo,\n",
    "id_info.avatar,\n",
    "id_info.create_datetime,\n",
    "id_info.image_path,\n",
    "id_info.id\n",
    "FROM\n",
    "id_info\n",
    "WHERE\n",
    "id_info.`name` like \"王飞\" \"\"\"\n",
    "df=pd.read_sql(sql,con=db)\n",
    "cur.execute(sql)\n",
    "print(df)"
   ]
  },
  {
   "cell_type": "markdown",
   "metadata": {},
   "source": [
    "# 合并 查询"
   ]
  },
  {
   "cell_type": "code",
   "execution_count": 1,
   "metadata": {},
   "outputs": [
    {
     "ename": "NameError",
     "evalue": "name 'df' is not defined",
     "output_type": "error",
     "traceback": [
      "\u001b[1;31m---------------------------------------------------------------------------\u001b[0m",
      "\u001b[1;31mNameError\u001b[0m                                 Traceback (most recent call last)",
      "\u001b[1;32m<ipython-input-1-ef2c25a9a5d4>\u001b[0m in \u001b[0;36m<module>\u001b[1;34m()\u001b[0m\n\u001b[0;32m      1\u001b[0m \u001b[1;31m# 纵向合并\u001b[0m\u001b[1;33m\u001b[0m\u001b[1;33m\u001b[0m\u001b[0m\n\u001b[0;32m      2\u001b[0m \u001b[1;33m\u001b[0m\u001b[0m\n\u001b[1;32m----> 3\u001b[1;33m \u001b[0mres\u001b[0m \u001b[1;33m=\u001b[0m \u001b[0mdf\u001b[0m\u001b[1;33m.\u001b[0m\u001b[0mappend\u001b[0m\u001b[1;33m(\u001b[0m\u001b[1;33m[\u001b[0m\u001b[0mdf2\u001b[0m\u001b[1;33m,\u001b[0m \u001b[0mdf3\u001b[0m\u001b[1;33m]\u001b[0m\u001b[1;33m,\u001b[0m \u001b[0mignore_index\u001b[0m\u001b[1;33m=\u001b[0m\u001b[1;32mTrue\u001b[0m\u001b[1;33m)\u001b[0m\u001b[1;33m\u001b[0m\u001b[0m\n\u001b[0m\u001b[0;32m      4\u001b[0m \u001b[0mprint\u001b[0m\u001b[1;33m(\u001b[0m\u001b[0mres\u001b[0m\u001b[1;33m)\u001b[0m\u001b[1;33m\u001b[0m\u001b[0m\n",
      "\u001b[1;31mNameError\u001b[0m: name 'df' is not defined"
     ]
    }
   ],
   "source": [
    "# 纵向合并 \n",
    "\n",
    "res = df.append([df2, df3], ignore_index=True)\n",
    "print(res)"
   ]
  },
  {
   "cell_type": "code",
   "execution_count": 6,
   "metadata": {},
   "outputs": [
    {
     "name": "stdout",
     "output_type": "stream",
     "text": [
      "               idcard                                         image_path\n",
      "0  652923199002201816  /app/id_img/cb0/2ec/cb02ecb6-00b9-4839-9cd3-c2...\n",
      "1  653122198809204416  /app/id_img/0a6/224/0a622493-5a6e-48bb-a1e9-fa...\n",
      "2  652924198910120546  /app/id_img/afb/ada/afbada74-8fc2-4900-914b-ca...\n",
      "3  652324198210212818  /app/id_img/db8/378/db8378ab-826d-44df-a6a7-58...\n",
      "  nation name\n",
      "0     汉族   王飞\n",
      "1     汉族   王飞\n",
      "2     汉族   王飞\n",
      "3     汉族   王飞\n"
     ]
    },
    {
     "data": {
      "text/plain": [
       "array([['652923199002201816', '汉族', '王飞', '男', 'null', None,\n",
       "        Timestamp('2018-09-06 15:39:50'),\n",
       "        '/app/id_img/cb0/2ec/cb02ecb6-00b9-4839-9cd3-c29df9d1ae63.jpg',\n",
       "        23719],\n",
       "       ['653122198809204416', '汉族', '王飞', '男', 'null', None,\n",
       "        Timestamp('2018-09-06 16:34:29'),\n",
       "        '/app/id_img/0a6/224/0a622493-5a6e-48bb-a1e9-fa81983f6ad2.jpg',\n",
       "        27973],\n",
       "       ['652924198910120546', '汉族', '王飞', '女', 'null', None,\n",
       "        Timestamp('2018-09-06 19:48:02'),\n",
       "        '/app/id_img/afb/ada/afbada74-8fc2-4900-914b-cac377fea242.jpg',\n",
       "        37914],\n",
       "       ['652324198210212818', '汉族', '王飞', '男', 'null', None,\n",
       "        Timestamp('2018-09-07 10:23:04'),\n",
       "        '/app/id_img/db8/378/db8378ab-826d-44df-a6a7-58b5520d6617.jpg',\n",
       "        40541]], dtype=object)"
      ]
     },
     "execution_count": 6,
     "metadata": {},
     "output_type": "execute_result"
    }
   ],
   "source": [
    "#表格操作，\n",
    "\n",
    "# 知道列名 使用df.loc\n",
    "print( df.loc[:,[\"idcard\",\"image_path\"]])\n",
    "#不知道列名 使用  df.iloc\n",
    "print( df.iloc[:,[1,2]])\n",
    "\n",
    "# pd转num array\n",
    "print(df.values)"
   ]
  }
 ],
 "metadata": {
  "kernelspec": {
   "display_name": "Python 3",
   "language": "python",
   "name": "python3"
  },
  "language_info": {
   "codemirror_mode": {
    "name": "ipython",
    "version": 3
   },
   "file_extension": ".py",
   "mimetype": "text/x-python",
   "name": "python",
   "nbconvert_exporter": "python",
   "pygments_lexer": "ipython3",
   "version": "3.6.2"
  },
  "toc": {
   "base_numbering": 1,
   "nav_menu": {},
   "number_sections": true,
   "sideBar": true,
   "skip_h1_title": false,
   "title_cell": "Table of Contents",
   "title_sidebar": "Contents",
   "toc_cell": false,
   "toc_position": {},
   "toc_section_display": true,
   "toc_window_display": false
  }
 },
 "nbformat": 4,
 "nbformat_minor": 2
}
