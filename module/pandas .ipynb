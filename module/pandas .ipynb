{
 "cells": [
  {
   "cell_type": "markdown",
   "metadata": {},
   "source": [
    "# 表格创建和并添加"
   ]
  },
  {
   "cell_type": "code",
   "execution_count": 14,
   "metadata": {},
   "outputs": [
    {
     "name": "stdout",
     "output_type": "stream",
     "text": [
      "0    0\n",
      "1    1\n",
      "2    2\n",
      "3    3\n",
      "4    4\n",
      "5    5\n",
      "6    6\n",
      "dtype: int64\n",
      "   0  1\n",
      "0  0  0\n",
      "1  1  1\n",
      "2  2  2\n",
      "3  3  3\n",
      "4  4  4\n",
      "5  5  5\n",
      "6  6  6\n"
     ]
    }
   ],
   "source": [
    "import pandas as pd\n",
    "df1=pd.Series(range(7))\n",
    "print(df1)\n",
    "result = pd.concat([df1, df1], axis=1)\n",
    "print(result)\n",
    "saveCsv=pd.DataFrame( result)\n",
    "saveCsv.to_csv(\"tagData.csv\", index=True, sep=',')"
   ]
  },
  {
   "cell_type": "markdown",
   "metadata": {},
   "source": [
    "# 写数组到CSV"
   ]
  },
  {
   "cell_type": "code",
   "execution_count": 7,
   "metadata": {},
   "outputs": [],
   "source": [
    "\n",
    "import random\n",
    "import time\n",
    "import pandas as pd\n",
    "import numpy as np\n",
    "tagData=np.array(range(16)).reshape(4,4)\n",
    "#tagData=np.array([\"2\",3,\"d\"])\n",
    "saveCsv=pd.DataFrame( tagData)\n",
    "saveCsv.to_csv(\"tagData.csv\", index=True, sep=',')"
   ]
  },
  {
   "cell_type": "markdown",
   "metadata": {},
   "source": [
    "# 写字典数组 到csv"
   ]
  },
  {
   "cell_type": "code",
   "execution_count": 5,
   "metadata": {},
   "outputs": [],
   "source": [
    "\n",
    "import random\n",
    "import time\n",
    "import pandas as pd\n",
    "Len=10\n",
    "tagData=[{\"d1\":1,\"d2\":2,\"d3\":3}]\n",
    "\n",
    "dataMapD1=[random.uniform(0.2,0.997) for i in range(Len)]\n",
    "dataMapD2=[random.uniform(time.time()-1000,time.time()+1000) for i in range(Len)]\n",
    "dataMapD3=[(random.uniform(116.403406-10,116.403406+10),random.uniform(39.914935-10,39.914935+10)) for i in range(Len)]\n",
    "tagData=[{\"d1\":i,\"d2\":j,\"d3\":k} for i ,j,k in zip(dataMapD1,dataMapD2,dataMapD3)]\n",
    "\n",
    "saveCsv=pd.DataFrame( tagData)\n",
    "saveCsv.to_csv(\"tagData.csv\", index=False, sep=',')"
   ]
  },
  {
   "cell_type": "markdown",
   "metadata": {},
   "source": [
    "# 读取csv\n"
   ]
  },
  {
   "cell_type": "code",
   "execution_count": 14,
   "metadata": {},
   "outputs": [
    {
     "data": {
      "text/plain": [
       "array([[9.25820520e-01, 0.00000000e+00, 0.00000000e+00],\n",
       "       [5.73390141e-01, 0.00000000e+00, 1.00000000e+00],\n",
       "       [5.87105192e-01, 0.00000000e+00, 2.00000000e+00],\n",
       "       ...,\n",
       "       [6.17144736e-01, 9.99000000e+02, 9.97000000e+02],\n",
       "       [7.65132661e-01, 9.99000000e+02, 9.98000000e+02],\n",
       "       [9.51687381e-01, 9.99000000e+02, 9.99000000e+02]])"
      ]
     },
     "execution_count": 14,
     "metadata": {},
     "output_type": "execute_result"
    }
   ],
   "source": [
    "data =pd.read_csv(r\"C:\\Users\\user\\OneDrive\\code space\\python\\1notebook\\data\\tagData.csv\")\n",
    "\n",
    "data.values"
   ]
  },
  {
   "cell_type": "code",
   "execution_count": null,
   "metadata": {},
   "outputs": [],
   "source": [
    "saveCsv.hand()  头几行数据"
   ]
  },
  {
   "cell_type": "markdown",
   "metadata": {},
   "source": [
    "# 读取数据库 "
   ]
  },
  {
   "cell_type": "code",
   "execution_count": 2,
   "metadata": {},
   "outputs": [
    {
     "name": "stdout",
     "output_type": "stream",
     "text": [
      "               idcard nation name sex  memo avatar     create_datetime  \\\n",
      "0  652923199002201816     汉族   王飞   男  null   None 2018-09-06 15:39:50   \n",
      "1  653122198809204416     汉族   王飞   男  null   None 2018-09-06 16:34:29   \n",
      "2  652924198910120546     汉族   王飞   女  null   None 2018-09-06 19:48:02   \n",
      "3  652324198210212818     汉族   王飞   男  null   None 2018-09-07 10:23:04   \n",
      "\n",
      "                                          image_path     id  \n",
      "0  /app/id_img/cb0/2ec/cb02ecb6-00b9-4839-9cd3-c2...  23719  \n",
      "1  /app/id_img/0a6/224/0a622493-5a6e-48bb-a1e9-fa...  27973  \n",
      "2  /app/id_img/afb/ada/afbada74-8fc2-4900-914b-ca...  37914  \n",
      "3  /app/id_img/db8/378/db8378ab-826d-44df-a6a7-58...  40541  \n"
     ]
    }
   ],
   "source": [
    "# mysql\n",
    "import pandas as pd\n",
    "import pymysql \n",
    "db = pymysql.connect(host='localhost',port=3306,user='root',passwd='123456',charset='UTF8',db='id_info_cahe_copy') \n",
    "cur = db.cursor() \n",
    "\n",
    "sql=\"\"\"SELECT\n",
    "id_info.idcard,\n",
    "id_info.nation,\n",
    "id_info.`name`,\n",
    "id_info.sex,\n",
    "id_info.memo,\n",
    "id_info.avatar,\n",
    "id_info.create_datetime,\n",
    "id_info.image_path,\n",
    "id_info.id\n",
    "FROM\n",
    "id_info\n",
    "WHERE\n",
    "id_info.`name` like \"王飞\" \"\"\"\n",
    "df=pd.read_sql(sql,con=db)\n",
    "cur.execute(sql)\n",
    "print(df)"
   ]
  },
  {
   "cell_type": "markdown",
   "metadata": {},
   "source": [
    "# 合并 查询"
   ]
  },
  {
   "cell_type": "code",
   "execution_count": null,
   "metadata": {},
   "outputs": [],
   "source": [
    "# 纵向合并 \n",
    "\n",
    "res = df.append([df2, df3], ignore_index=True)\n",
    "print(res)"
   ]
  },
  {
   "cell_type": "code",
   "execution_count": 6,
   "metadata": {},
   "outputs": [
    {
     "name": "stdout",
     "output_type": "stream",
     "text": [
      "               idcard                                         image_path\n",
      "0  652923199002201816  /app/id_img/cb0/2ec/cb02ecb6-00b9-4839-9cd3-c2...\n",
      "1  653122198809204416  /app/id_img/0a6/224/0a622493-5a6e-48bb-a1e9-fa...\n",
      "2  652924198910120546  /app/id_img/afb/ada/afbada74-8fc2-4900-914b-ca...\n",
      "3  652324198210212818  /app/id_img/db8/378/db8378ab-826d-44df-a6a7-58...\n",
      "  nation name\n",
      "0     汉族   王飞\n",
      "1     汉族   王飞\n",
      "2     汉族   王飞\n",
      "3     汉族   王飞\n"
     ]
    },
    {
     "data": {
      "text/plain": [
       "array([['652923199002201816', '汉族', '王飞', '男', 'null', None,\n",
       "        Timestamp('2018-09-06 15:39:50'),\n",
       "        '/app/id_img/cb0/2ec/cb02ecb6-00b9-4839-9cd3-c29df9d1ae63.jpg',\n",
       "        23719],\n",
       "       ['653122198809204416', '汉族', '王飞', '男', 'null', None,\n",
       "        Timestamp('2018-09-06 16:34:29'),\n",
       "        '/app/id_img/0a6/224/0a622493-5a6e-48bb-a1e9-fa81983f6ad2.jpg',\n",
       "        27973],\n",
       "       ['652924198910120546', '汉族', '王飞', '女', 'null', None,\n",
       "        Timestamp('2018-09-06 19:48:02'),\n",
       "        '/app/id_img/afb/ada/afbada74-8fc2-4900-914b-cac377fea242.jpg',\n",
       "        37914],\n",
       "       ['652324198210212818', '汉族', '王飞', '男', 'null', None,\n",
       "        Timestamp('2018-09-07 10:23:04'),\n",
       "        '/app/id_img/db8/378/db8378ab-826d-44df-a6a7-58b5520d6617.jpg',\n",
       "        40541]], dtype=object)"
      ]
     },
     "execution_count": 6,
     "metadata": {},
     "output_type": "execute_result"
    }
   ],
   "source": [
    "#表格操作，\n",
    "\n",
    "# 知道列名 使用df.loc\n",
    "print( df.loc[:,[\"idcard\",\"image_path\"]])\n",
    "#不知道列名 使用  df.iloc\n",
    "print( df.iloc[:,[1,2]])\n",
    "\n",
    "# pd转num array\n",
    "print(df.values)"
   ]
  }
 ],
 "metadata": {
  "kernelspec": {
   "display_name": "Python 3",
   "language": "python",
   "name": "python3"
  },
  "language_info": {
   "codemirror_mode": {
    "name": "ipython",
    "version": 3
   },
   "file_extension": ".py",
   "mimetype": "text/x-python",
   "name": "python",
   "nbconvert_exporter": "python",
   "pygments_lexer": "ipython3",
   "version": "3.6.2"
  }
 },
 "nbformat": 4,
 "nbformat_minor": 2
}
