{
 "cells": [
  {
   "cell_type": "markdown",
   "metadata": {},
   "source": [
    "# QT5"
   ]
  },
  {
   "cell_type": "code",
   "execution_count": 2,
   "metadata": {},
   "outputs": [],
   "source": [
    "import PyQt5\n",
    "# 。ui 转 .py C:\\Users\\user\\OneDrive\\code space\\python\\1notebook\\module\\qt>pyuic5 -x untitled.ui   -o xx.py"
   ]
  },
  {
   "cell_type": "code",
   "execution_count": 7,
   "metadata": {},
   "outputs": [
    {
     "name": "stdout",
     "output_type": "stream",
     "text": [
      "0\n",
      "c 1\n",
      "1\n",
      "c 2\n",
      "2\n",
      "c 3\n"
     ]
    }
   ],
   "source": [
    "cnt=0\n",
    "for i in range(3):\n",
    "    print (i)\n",
    "    cnt+=1\n",
    "    print(\"c\",cnt)"
   ]
  }
 ],
 "metadata": {
  "kernelspec": {
   "display_name": "Python 3",
   "language": "python",
   "name": "python3"
  },
  "language_info": {
   "codemirror_mode": {
    "name": "ipython",
    "version": 3
   },
   "file_extension": ".py",
   "mimetype": "text/x-python",
   "name": "python",
   "nbconvert_exporter": "python",
   "pygments_lexer": "ipython3",
   "version": "3.6.2"
  }
 },
 "nbformat": 4,
 "nbformat_minor": 2
}
