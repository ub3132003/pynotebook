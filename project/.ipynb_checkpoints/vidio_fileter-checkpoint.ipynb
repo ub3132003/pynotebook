{
 "cells": [
  {
   "cell_type": "markdown",
   "metadata": {},
   "source": [
    "# 视频流去重，输出 人脸特征值map到卡夫卡"
   ]
  },
  {
   "cell_type": "code",
   "execution_count": 1,
   "metadata": {},
   "outputs": [],
   "source": [
    "import sys\n",
    "from kafka import KafkaProducer\n",
    "sys.path.append(r'D:\\foo')\n",
    "sys.path\n",
    "import notebook_lib.req \n",
    "import face_v2\n",
    "from matplotlib import pyplot as plt\n",
    "import numpy as np\n",
    "import json \n",
    "import time"
   ]
  },
  {
   "cell_type": "code",
   "execution_count": 2,
   "metadata": {},
   "outputs": [],
   "source": [
    "imagePath=r'C:\\Users\\user\\Pictures\\2002\\07\\19\\big'\n",
    "targetPath=r'D:\\foo\\tag\\static'\n",
    "invalidPath=r'D:\\foo\\invalid'\n",
    "req=notebook_lib.req.StSdsUtils('http://192.168.1.111:9001')"
   ]
  },
  {
   "cell_type": "code",
   "execution_count": 13,
   "metadata": {},
   "outputs": [
    {
     "name": "stdout",
     "output_type": "stream",
     "text": [
      "Find 2 faces to Destination \n",
      "{'C:\\\\Users\\\\user\\\\Pictures\\\\2002\\\\07\\\\19\\\\big\\\\img_356.jpg': ['D:\\\\foo\\\\tag\\\\static\\\\15337875201.jpg', 'D:\\\\foo\\\\tag\\\\static\\\\15337875202.jpg']}\n",
      "{'C:\\\\Users\\\\user\\\\Pictures\\\\2002\\\\07\\\\19\\\\big\\\\img_356.jpg': ['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', '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']}\n",
      "0\n",
      "1\n",
      "2\n",
      "3\n",
      "4\n",
      "5\n"
     ]
    },
    {
     "ename": "KeyboardInterrupt",
     "evalue": "",
     "output_type": "error",
     "traceback": [
      "\u001b[1;31m---------------------------------------------------------------------------\u001b[0m",
      "\u001b[1;31mKeyboardInterrupt\u001b[0m                         Traceback (most recent call last)",
      "\u001b[1;32m<ipython-input-13-52fac0950640>\u001b[0m in \u001b[0;36m<module>\u001b[1;34m()\u001b[0m\n\u001b[0;32m     21\u001b[0m     \u001b[0mproducer\u001b[0m\u001b[1;33m.\u001b[0m\u001b[0msend\u001b[0m\u001b[1;33m(\u001b[0m\u001b[1;34m'frameInfo'\u001b[0m\u001b[1;33m,\u001b[0m \u001b[0mimageInfoB\u001b[0m\u001b[1;33m)\u001b[0m\u001b[1;33m\u001b[0m\u001b[0m\n\u001b[0;32m     22\u001b[0m     \u001b[0mprint\u001b[0m\u001b[1;33m(\u001b[0m\u001b[0mi\u001b[0m\u001b[1;33m)\u001b[0m\u001b[1;33m\u001b[0m\u001b[0m\n\u001b[1;32m---> 23\u001b[1;33m     \u001b[0mtime\u001b[0m\u001b[1;33m.\u001b[0m\u001b[0msleep\u001b[0m\u001b[1;33m(\u001b[0m\u001b[1;36m5\u001b[0m\u001b[1;33m)\u001b[0m\u001b[1;33m\u001b[0m\u001b[0m\n\u001b[0m\u001b[0;32m     24\u001b[0m \u001b[1;33m\u001b[0m\u001b[0m\n\u001b[0;32m     25\u001b[0m \u001b[0mprint\u001b[0m\u001b[1;33m(\u001b[0m\u001b[1;34m\"ok\"\u001b[0m\u001b[1;33m)\u001b[0m\u001b[1;33m\u001b[0m\u001b[0m\n",
      "\u001b[1;31mKeyboardInterrupt\u001b[0m: "
     ]
    }
   ],
   "source": [
    "imageP=r'C:\\Users\\user\\Pictures\\2002\\07\\19\\big\\img_356.jpg'\n",
    "imageInfo={}\n",
    "faceList=face_v2.detectFace(imageP,r\"D:\\foo\\tag\\static\")\n",
    "imageInfo[imageP]=faceList\n",
    "print(imageInfo)\n",
    "producer = KafkaProducer(bootstrap_servers='192.168.1.116:9092')\n",
    "resp=req.get_batch_image_features(imageInfo[imageP])\n",
    "respMap=json.loads(resp)\n",
    "#print(respMap[\"success\"])\n",
    "frameInfo={imageP:[]}\n",
    "for  i in respMap[\"success\"]:\n",
    "    frameInfo[imageP].append( i[\"feature\"])\n",
    "print(frameInfo)\n",
    "for i in range(1000):\n",
    "   \n",
    "    \n",
    "    imageInfoB=bytes(json.dumps(frameInfo),\"utf-8\")\n",
    "   # print(imageInfoB)\n",
    "    \n",
    "    \n",
    "    producer.send('frameInfo', imageInfoB)\n",
    "    print(i)\n",
    "    time.sleep(5)\n",
    "    \n",
    "print(\"ok\")"
   ]
  },
  {
   "cell_type": "code",
   "execution_count": null,
   "metadata": {},
   "outputs": [],
   "source": []
  },
  {
   "cell_type": "code",
   "execution_count": null,
   "metadata": {
    "scrolled": false
   },
   "outputs": [],
   "source": [
    "\n",
    "# func= face(func)\n",
    "@face_v2.readPicSaveFace(imagePath,targetPath,invalidPath,'.jpg','.JPG','png','PNG')\n",
    "def func():\n",
    "    print(\"=================???=======\")\n",
    "    imageList=[r\"C:\\Users\\user\\Pictures\\2002\\07\\19\\big\\img_18.jpg\",r\"C:\\Users\\user\\Pictures\\2002\\07\\19\\big\\img_90.jpg\",r\"C:\\Users\\user\\Pictures\\2002\\07\\19\\big\\img_209.jpg\"]\n",
    "    rep=json.loads(req.get_batch_image_features(imageList))\n",
    "    print(rep[\"result\"])\n",
    "#face_v2.getFaceInRtsp()\n",
    "#TODO:精准度不行"
   ]
  },
  {
   "cell_type": "code",
   "execution_count": null,
   "metadata": {},
   "outputs": [],
   "source": []
  },
  {
   "cell_type": "code",
   "execution_count": null,
   "metadata": {},
   "outputs": [],
   "source": [
    "req.get_image_feature(r'C:\\Users\\user\\Pictures\\2002\\07\\19\\big\\img_141.jpg')"
   ]
  },
  {
   "cell_type": "code",
   "execution_count": null,
   "metadata": {},
   "outputs": [],
   "source": [
    "img=plt.imread(r\"D:\\foo\\frame\\image166.jpg\")\n",
    "plt.imshow(img)"
   ]
  }
 ],
 "metadata": {
  "kernelspec": {
   "display_name": "Python 3",
   "language": "python",
   "name": "python3"
  },
  "language_info": {
   "codemirror_mode": {
    "name": "ipython",
    "version": 3
   },
   "file_extension": ".py",
   "mimetype": "text/x-python",
   "name": "python",
   "nbconvert_exporter": "python",
   "pygments_lexer": "ipython3",
   "version": "3.6.2"
  }
 },
 "nbformat": 4,
 "nbformat_minor": 2
}
