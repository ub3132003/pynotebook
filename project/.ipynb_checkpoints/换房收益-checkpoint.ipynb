{
 "cells": [
  {
   "cell_type": "code",
   "execution_count": 6,
   "metadata": {},
   "outputs": [],
   "source": [
    "import numpy as np\n",
    "import matplotlib.pyplot as plt "
   ]
  },
  {
   "cell_type": "code",
   "execution_count": 156,
   "metadata": {},
   "outputs": [],
   "source": [
    "#%home\n",
    "T=36\n",
    "x=np.arange(0,T,1) #月每月计算\n",
    "贷款本金=50000\n",
    "利率=0.007\n",
    "贷款总额=贷款本金*利率\n",
    "房租=3000\n",
    "出租=4000\n",
    "T贷款起=0;T贷款止=6;T贷款=-T贷款起+T贷款止\n",
    "T租房起=0;T租房止=T;T租房=-T租房起+T租房止\n",
    "T出租起=3;T出租止=T;T出租=-T出租起+T出租止\n",
    "\n",
    "T贷款=np.pad(np.arange(ld),(T贷款起,T-ld-T贷款起),\"maximum\")  #月\n",
    "T租房=np.pad(np.arange(lz),(T租房起,T-lz-T租房起),\"constant\")\n",
    "T出租=np.pad(np.arange(lc),(T出租起,T-lc-T出租起),\"constant\")"
   ]
  },
  {
   "cell_type": "code",
   "execution_count": 157,
   "metadata": {},
   "outputs": [
    {
     "name": "stdout",
     "output_type": "stream",
     "text": [
      "[0 1 2 3 4 5 5 5 5 5 5 5 5 5 5 5 5 5 5 5 5 5 5 5 5 5 5 5 5 5 5 5 5 5 5 5] [ 0  1  2  3  4  5  6  7  8  9 10 11 12 13 14 15 16 17 18 19 20 21 22 23\n",
      " 24 25 26 27 28 29 30 31 32 33 34 35] [ 0  0  0  0  1  2  3  4  5  6  7  8  9 10 11 12 13 14 15 16 17 18 19 20\n",
      " 21 22 23 24 25 26 27 28 29 30 31 32]\n",
      "[     0.         -11391.66666667 -22783.33333333 -34175.\n",
      " -41566.66666667 -48958.33333333 -47958.33333333 -46958.33333333\n",
      " -45958.33333333 -44958.33333333 -43958.33333333 -42958.33333333\n",
      " -41958.33333333 -40958.33333333 -39958.33333333 -38958.33333333\n",
      " -37958.33333333 -36958.33333333 -35958.33333333 -34958.33333333\n",
      " -33958.33333333 -32958.33333333 -31958.33333333 -30958.33333333\n",
      " -29958.33333333 -28958.33333333 -27958.33333333 -26958.33333333\n",
      " -25958.33333333 -24958.33333333 -23958.33333333 -22958.33333333\n",
      " -21958.33333333 -20958.33333333 -19958.33333333 -18958.33333333]\n"
     ]
    },
    {
     "data": {
      "text/plain": [
       "[<matplotlib.lines.Line2D at 0x1de5f40d550>]"
      ]
     },
     "execution_count": 157,
     "metadata": {},
     "output_type": "execute_result"
    },
    {
     "data": {
      "image/png": "[encoded data removed]",
      "text/plain": [
       "<Figure size 432x288 with 1 Axes>"
      ]
     },
     "metadata": {
      "needs_background": "light"
     },
     "output_type": "display_data"
    }
   ],
   "source": [
    "print(td,tz,tc)\n",
    "y=( -(贷款本金/ld)*(1+利率)*T贷款-房租*T租房+出租*T出租)\n",
    "print(y)\n",
    "plt.plot(x,y)\n",
    "\n"
   ]
  },
  {
   "cell_type": "code",
   "execution_count": 146,
   "metadata": {},
   "outputs": [
    {
     "name": "stdout",
     "output_type": "stream",
     "text": [
      "[0. 0. 0. 0. 0. 5. 6. 7. 8. 9.]\n"
     ]
    },
    {
     "data": {
      "text/plain": [
       "[<matplotlib.lines.Line2D at 0x1de5d7157f0>]"
      ]
     },
     "execution_count": 146,
     "metadata": {},
     "output_type": "execute_result"
    },
    {
     "data": {
      "image/png": "[encoded data removed]",
      "text/plain": [
       "<Figure size 432x288 with 1 Axes>"
      ]
     },
     "metadata": {
      "needs_background": "light"
     },
     "output_type": "display_data"
    }
   ],
   "source": [
    "x=np.arange(0,10,1) #月每月计算\n",
    "y=x \n",
    "z=x*np.append(np.zeros(5),np.ones(5))\n",
    "print(z)\n",
    "plt.plot(x,z)"
   ]
  },
  {
   "cell_type": "code",
   "execution_count": 127,
   "metadata": {},
   "outputs": [
    {
     "data": {
      "text/plain": [
       "array([0., 0., 0., 1., 1., 1., 1., 1., 0., 0., 0., 0., 0., 0., 0.])"
      ]
     },
     "execution_count": 127,
     "metadata": {},
     "output_type": "execute_result"
    }
   ],
   "source": [
    "aa=np.ones(5)\n",
    "bb=np.pad(aa,(0,4),mode=\"constant\")\n",
    "np.pad(bb,(3,3),\"constant\")"
   ]
  },
  {
   "cell_type": "code",
   "execution_count": null,
   "metadata": {},
   "outputs": [],
   "source": []
  },
  {
   "cell_type": "code",
   "execution_count": null,
   "metadata": {},
   "outputs": [],
   "source": []
  },
  {
   "cell_type": "code",
   "execution_count": null,
   "metadata": {},
   "outputs": [],
   "source": []
  },
  {
   "cell_type": "code",
   "execution_count": null,
   "metadata": {},
   "outputs": [],
   "source": []
  }
 ],
 "metadata": {
  "kernelspec": {
   "display_name": "Python 3",
   "language": "python",
   "name": "python3"
  },
  "language_info": {
   "codemirror_mode": {
    "name": "ipython",
    "version": 3
   },
   "file_extension": ".py",
   "mimetype": "text/x-python",
   "name": "python",
   "nbconvert_exporter": "python",
   "pygments_lexer": "ipython3",
   "version": "3.6.2"
  }
 },
 "nbformat": 4,
 "nbformat_minor": 2
}
