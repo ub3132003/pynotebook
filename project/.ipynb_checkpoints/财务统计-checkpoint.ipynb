{
 "cells": [
  {
   "cell_type": "code",
   "execution_count": 1,
   "metadata": {},
   "outputs": [],
   "source": [
    "import pandas as pd\n",
    "import seaborn as sns\n",
    "import datetime"
   ]
  },
  {
   "cell_type": "markdown",
   "metadata": {},
   "source": [
    "# 全局参数"
   ]
  },
  {
   "cell_type": "code",
   "execution_count": 2,
   "metadata": {},
   "outputs": [],
   "source": [
    "data_table1_file=\"../data/家庭财务数据记录.xlsx\""
   ]
  },
  {
   "cell_type": "markdown",
   "metadata": {},
   "source": [
    "# 数据导入"
   ]
  },
  {
   "cell_type": "code",
   "execution_count": 3,
   "metadata": {},
   "outputs": [],
   "source": [
    "df1=pd.read_excel(data_table1_file,header=2)\n"
   ]
  },
  {
   "cell_type": "markdown",
   "metadata": {},
   "source": [
    "## 预览"
   ]
  },
  {
   "cell_type": "code",
   "execution_count": 4,
   "metadata": {},
   "outputs": [],
   "source": [
    "#df1"
   ]
  },
  {
   "cell_type": "markdown",
   "metadata": {},
   "source": [
    "# 总览"
   ]
  },
  {
   "cell_type": "code",
   "execution_count": 36,
   "metadata": {
    "code_folding": [
     10
    ]
   },
   "outputs": [
    {
     "data": {
      "text/html": [
       "<div>\n",
       "<style scoped>\n",
       "    .dataframe tbody tr th:only-of-type {\n",
       "        vertical-align: middle;\n",
       "    }\n",
       "\n",
       "    .dataframe tbody tr th {\n",
       "        vertical-align: top;\n",
       "    }\n",
       "\n",
       "    .dataframe thead th {\n",
       "        text-align: right;\n",
       "    }\n",
       "</style>\n",
       "<table border=\"1\" class=\"dataframe\">\n",
       "  <thead>\n",
       "    <tr style=\"text-align: right;\">\n",
       "      <th></th>\n",
       "      <th>备注</th>\n",
       "      <th>金额</th>\n",
       "      <th>时间</th>\n",
       "      <th>收支</th>\n",
       "      <th>责任人</th>\n",
       "      <th>类型</th>\n",
       "      <th>年</th>\n",
       "      <th>月</th>\n",
       "    </tr>\n",
       "  </thead>\n",
       "  <tbody>\n",
       "    <tr>\n",
       "      <th>0</th>\n",
       "      <td>例子</td>\n",
       "      <td>0.1</td>\n",
       "      <td>2019-02-16</td>\n",
       "      <td>收入</td>\n",
       "      <td>孙月生</td>\n",
       "      <td>现金</td>\n",
       "      <td>2019.0</td>\n",
       "      <td>2.0</td>\n",
       "    </tr>\n",
       "    <tr>\n",
       "      <th>2</th>\n",
       "      <td>NaN</td>\n",
       "      <td>4800.0</td>\n",
       "      <td>2019-02-16</td>\n",
       "      <td>收入</td>\n",
       "      <td>孙月生</td>\n",
       "      <td>现金</td>\n",
       "      <td>2019.0</td>\n",
       "      <td>2.0</td>\n",
       "    </tr>\n",
       "  </tbody>\n",
       "</table>\n",
       "</div>"
      ],
      "text/plain": [
       "    备注      金额          时间  收支  责任人  类型       年    月\n",
       "0   例子     0.1  2019-02-16  收入  孙月生  现金  2019.0  2.0\n",
       "2  NaN  4800.0  2019-02-16  收入  孙月生  现金  2019.0  2.0"
      ]
     },
     "execution_count": 36,
     "metadata": {},
     "output_type": "execute_result"
    }
   ],
   "source": [
    "class Func:\n",
    "    def __init__(self,df):\n",
    "        if isinstance(df,pd.DataFrame):\n",
    "            self.df=df\n",
    "        else:\n",
    "            raise TypeError\n",
    "    \n",
    "    \n",
    "    def groupby(key=\"\",v=\"2019\",**kawgs):\n",
    "        if key ==\"年\":\n",
    "            pass\n",
    "        if key == \"月\":\n",
    "            pass\n",
    "        if key == \"责任人\":\n",
    "            pass\n",
    "        if key == \"类型\":\n",
    "            pass\n",
    "        if key == \"收支\":\n",
    "            pass\n",
    "    \n",
    "    def filter(self,*arg):\n",
    "        r=arg[0]\n",
    "        for i in arg:\n",
    "            r&=i\n",
    "        return  self.df[r]\n",
    "        \n",
    "            \n",
    "                                       \n",
    "d={}\n",
    "\n",
    "d[u\"年\"]=2019\n",
    "d[u\"负责人\"]=u\"孙月生\"  \n",
    "d[u\"收支\"]=u\"支出\"\n",
    "f=Func(df1)\n",
    "f.filter(df1[u'收支']==u'收入',df1[u'责任人']==u'孙月生')\n"
   ]
  },
  {
   "cell_type": "code",
   "execution_count": 56,
   "metadata": {
    "scrolled": true
   },
   "outputs": [
    {
     "name": "stdout",
     "output_type": "stream",
     "text": [
      "2019.0\n",
      "    备注       金额          时间  收支  责任人    类型       年    月\n",
      "0   例子      0.1  2019-02-16  收入  孙月生    现金  2019.0  2.0\n",
      "1   例子      0.1  2019-02-16  支出  胡玉仙  股票基金  2019.0  2.0\n",
      "2  NaN   4800.0  2019-02-16  收入  孙月生    现金  2019.0  2.0\n",
      "3  NaN    100.0  2019-02-16  支出  孙月生    现金  2019.0  2.0\n",
      "4   结余  18000.0  2019-02-16  收入  胡玉仙    定期  2019.0  2.0\n",
      "5   结余  48715.0  2019-02-16  收入   孙俊  股票基金  2019.0  2.0\n",
      "6   结余  18251.0  2019-02-16  收入   孙俊    现金  2019.0  2.0\n",
      "+++++++++++++++++++++++++\n"
     ]
    }
   ],
   "source": [
    "grouped = df1.groupby('年')\n",
    "for i,j in grouped:\n",
    "    print(i)\n",
    "    print(j)\n",
    "    print(\"+++++++++++++++++++++++++\")"
   ]
  },
  {
   "cell_type": "code",
   "execution_count": 38,
   "metadata": {},
   "outputs": [
    {
     "name": "stdout",
     "output_type": "stream",
     "text": [
      "1\n",
      "0\n",
      "0\n"
     ]
    },
    {
     "data": {
      "text/plain": [
       "4800.1"
      ]
     },
     "execution_count": 38,
     "metadata": {},
     "output_type": "execute_result"
    }
   ],
   "source": [
    "df1[(df1[u'收支']==u'收入') & (df1[u'责任人']==u'孙月生')]\n",
    "\n",
    "def  aa(*arg):\n",
    "    r=arg[0]\n",
    "    for i in arg:\n",
    "        r=r&i\n",
    "        print(r)\n",
    "aa(1,0,1)\n",
    "#su,m\n",
    "\n",
    "filter_df=df1[(df1[u'收支']==u'收入') & (df1[u'责任人']==u'孙月生')].sum()\n",
    "filter_df['金额'].sum()\n",
    "#df1[u'收支']==u'收入'"
   ]
  },
  {
   "cell_type": "markdown",
   "metadata": {},
   "source": [
    "# 柱状图"
   ]
  },
  {
   "cell_type": "code",
   "execution_count": 45,
   "metadata": {},
   "outputs": [
    {
     "data": {
      "text/plain": [
       "2016"
      ]
     },
     "execution_count": 45,
     "metadata": {},
     "output_type": "execute_result"
    }
   ],
   "source": [
    "date_str = \"2016-11-30 13:53:59\"\n",
    "a=datetime.datetime.strptime(date_str, \"%Y-%m-%d %H:%M:%S\")\n",
    "a.year                          "
   ]
  },
  {
   "cell_type": "code",
   "execution_count": null,
   "metadata": {},
   "outputs": [],
   "source": [
    " df1=df1.groupby(['年'])['cnt_view','cnt_click'].sum()"
   ]
  }
 ],
 "metadata": {
  "kernelspec": {
   "display_name": "Python 3",
   "language": "python",
   "name": "python3"
  },
  "language_info": {
   "codemirror_mode": {
    "name": "ipython",
    "version": 3
   },
   "file_extension": ".py",
   "mimetype": "text/x-python",
   "name": "python",
   "nbconvert_exporter": "python",
   "pygments_lexer": "ipython3",
   "version": "3.6.2"
  },
  "toc": {
   "base_numbering": 1,
   "nav_menu": {},
   "number_sections": true,
   "sideBar": true,
   "skip_h1_title": false,
   "title_cell": "Table of Contents",
   "title_sidebar": "Contents",
   "toc_cell": false,
   "toc_position": {},
   "toc_section_display": true,
   "toc_window_display": true
  }
 },
 "nbformat": 4,
 "nbformat_minor": 2
}
