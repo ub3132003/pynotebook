{
 "cells": [
  {
   "cell_type": "code",
   "execution_count": 9,
   "metadata": {},
   "outputs": [
    {
     "name": "stderr",
     "output_type": "stream",
     "text": [
      "[NbConvertApp] Converting notebook 面试 ppt.ipynb to slides\n",
      "[NbConvertApp] Writing 320855 bytes to ppt.slides.html\n"
     ]
    }
   ],
   "source": [
    "! jupyter-nbconvert --to slides \"面试 ppt.ipynb\" --reveal-prefix  'https://cdn.bootcss.com/reveal.js/3.5.0' --output ppt"
   ]
  },
  {
   "cell_type": "code",
   "execution_count": 2,
   "metadata": {},
   "outputs": [
    {
     "name": "stderr",
     "output_type": "stream",
     "text": [
      "[NbConvertApp] Converting notebook 面试 ppt.ipynb to slides\n",
      "[NbConvertApp] Writing 317471 bytes to ppt.slides.html\n",
      "[NbConvertApp] Redirecting reveal.js requests to https://cdnjs.cloudflare.com/ajax/libs/reveal.js/3.5.0\n",
      "Traceback (most recent call last):\n",
      "  File \"c:\\users\\sun\\appdata\\local\\programs\\python\\python36\\lib\\runpy.py\", line 193, in _run_module_as_main\n",
      "    \"__main__\", mod_spec)\n",
      "  File \"c:\\users\\sun\\appdata\\local\\programs\\python\\python36\\lib\\runpy.py\", line 85, in _run_code\n",
      "    exec(code, run_globals)\n",
      "  File \"C:\\Users\\sun\\AppData\\Local\\Programs\\Python\\Python36\\Scripts\\jupyter-nbconvert.exe\\__main__.py\", line 9, in <module>\n",
      "  File \"c:\\users\\sun\\appdata\\local\\programs\\python\\python36\\lib\\site-packages\\jupyter_core\\application.py\", line 266, in launch_instance\n",
      "    return super(JupyterApp, cls).launch_instance(argv=argv, **kwargs)\n",
      "  File \"c:\\users\\sun\\appdata\\local\\programs\\python\\python36\\lib\\site-packages\\traitlets\\config\\application.py\", line 658, in launch_instance\n",
      "    app.start()\n",
      "  File \"c:\\users\\sun\\appdata\\local\\programs\\python\\python36\\lib\\site-packages\\nbconvert\\nbconvertapp.py\", line 337, in start\n",
      "    self.convert_notebooks()\n",
      "  File \"c:\\users\\sun\\appdata\\local\\programs\\python\\python36\\lib\\site-packages\\nbconvert\\nbconvertapp.py\", line 507, in convert_notebooks\n",
      "    self.convert_single_notebook(notebook_filename)\n",
      "  File \"c:\\users\\sun\\appdata\\local\\programs\\python\\python36\\lib\\site-packages\\nbconvert\\nbconvertapp.py\", line 480, in convert_single_notebook\n",
      "    self.postprocess_single_notebook(write_results)\n",
      "  File \"c:\\users\\sun\\appdata\\local\\programs\\python\\python36\\lib\\site-packages\\nbconvert\\nbconvertapp.py\", line 452, in postprocess_single_notebook\n",
      "    self.postprocessor(write_results)\n",
      "  File \"c:\\users\\sun\\appdata\\local\\programs\\python\\python36\\lib\\site-packages\\nbconvert\\postprocessors\\base.py\", line 28, in __call__\n",
      "    self.postprocess(input)\n",
      "  File \"c:\\users\\sun\\appdata\\local\\programs\\python\\python36\\lib\\site-packages\\nbconvert\\postprocessors\\serve.py\", line 95, in postprocess\n",
      "    http_server.listen(self.port, address=self.ip)\n",
      "  File \"c:\\users\\sun\\appdata\\local\\programs\\python\\python36\\lib\\site-packages\\tornado\\tcpserver.py\", line 143, in listen\n",
      "    sockets = bind_sockets(port, address=address)\n",
      "  File \"c:\\users\\sun\\appdata\\local\\programs\\python\\python36\\lib\\site-packages\\tornado\\netutil.py\", line 168, in bind_sockets\n",
      "    sock.bind(sockaddr)\n",
      "OSError: [WinError 10048] 通常每个套接字地址(协议/网络地址/端口)只允许使用一次。\n"
     ]
    }
   ],
   "source": [
    "! jupyter-nbconvert --to slides \"面试 ppt.ipynb\" --post serve --output ppt"
   ]
  },
  {
   "cell_type": "code",
   "execution_count": null,
   "metadata": {},
   "outputs": [],
   "source": []
  }
 ],
 "metadata": {
  "kernelspec": {
   "display_name": "Python 3",
   "language": "python",
   "name": "python3"
  },
  "language_info": {
   "codemirror_mode": {
    "name": "ipython",
    "version": 3
   },
   "file_extension": ".py",
   "mimetype": "text/x-python",
   "name": "python",
   "nbconvert_exporter": "python",
   "pygments_lexer": "ipython3",
   "version": "3.6.2"
  },
  "toc": {
   "base_numbering": 1,
   "nav_menu": {},
   "number_sections": true,
   "sideBar": true,
   "skip_h1_title": false,
   "title_cell": "Table of Contents",
   "title_sidebar": "Contents",
   "toc_cell": false,
   "toc_position": {},
   "toc_section_display": true,
   "toc_window_display": false
  }
 },
 "nbformat": 4,
 "nbformat_minor": 2
}
