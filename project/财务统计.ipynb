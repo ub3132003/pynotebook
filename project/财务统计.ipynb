{
 "cells": [
  {
   "cell_type": "code",
   "execution_count": 48,
   "metadata": {},
   "outputs": [],
   "source": [
    "import pandas as pd\n",
    "import seaborn as sns\n",
    "import datetime"
   ]
  },
  {
   "cell_type": "markdown",
   "metadata": {},
   "source": [
    "# 全局参数"
   ]
  },
  {
   "cell_type": "code",
   "execution_count": 49,
   "metadata": {},
   "outputs": [],
   "source": [
    "data_table1_file=\"../data/家庭财务数据记录.xlsx\""
   ]
  },
  {
   "cell_type": "markdown",
   "metadata": {},
   "source": [
    "# 数据导入"
   ]
  },
  {
   "cell_type": "code",
   "execution_count": 53,
   "metadata": {},
   "outputs": [],
   "source": [
    "df1=pd.read_excel(data_table1_file,header=2)\n"
   ]
  },
  {
   "cell_type": "markdown",
   "metadata": {},
   "source": [
    "## 预览"
   ]
  },
  {
   "cell_type": "code",
   "execution_count": 54,
   "metadata": {},
   "outputs": [],
   "source": [
    "#df1"
   ]
  },
  {
   "cell_type": "markdown",
   "metadata": {},
   "source": [
    "# 总览"
   ]
  },
  {
   "cell_type": "code",
   "execution_count": 55,
   "metadata": {},
   "outputs": [
    {
     "ename": "SyntaxError",
     "evalue": "invalid syntax (<ipython-input-55-81ec5fef5a36>, line 7)",
     "output_type": "error",
     "traceback": [
      "\u001b[1;36m  File \u001b[1;32m\"<ipython-input-55-81ec5fef5a36>\"\u001b[1;36m, line \u001b[1;32m7\u001b[0m\n\u001b[1;33m    if key =\"年\"：\u001b[0m\n\u001b[1;37m           ^\u001b[0m\n\u001b[1;31mSyntaxError\u001b[0m\u001b[1;31m:\u001b[0m invalid syntax\n"
     ]
    }
   ],
   "source": [
    "class func:\n",
    "    def sum_it():\n",
    "        \"\"\"总和计算\"\"\"\n",
    "        pass\n",
    "    \n",
    "    def groupby(key=\"\",v=\"2019\",**kawgs):\n",
    "        if key =\"年\"：\n",
    "            pass\n",
    "        if key = \"月\"：\n",
    "            pass\n",
    "        if key = \"责任人\"：\n",
    "            pass\n",
    "        if key = \"类型\"：\n",
    "            pass\n",
    "        if key = \"收支\"：\n",
    "            pass\n",
    "    \n",
    "    "
   ]
  },
  {
   "cell_type": "code",
   "execution_count": 56,
   "metadata": {
    "scrolled": true
   },
   "outputs": [
    {
     "name": "stdout",
     "output_type": "stream",
     "text": [
      "2019.0\n",
      "    备注       金额          时间  收支  责任人    类型       年    月\n",
      "0   例子      0.1  2019-02-16  收入  孙月生    现金  2019.0  2.0\n",
      "1   例子      0.1  2019-02-16  支出  胡玉仙  股票基金  2019.0  2.0\n",
      "2  NaN   4800.0  2019-02-16  收入  孙月生    现金  2019.0  2.0\n",
      "3  NaN    100.0  2019-02-16  支出  孙月生    现金  2019.0  2.0\n",
      "4   结余  18000.0  2019-02-16  收入  胡玉仙    定期  2019.0  2.0\n",
      "5   结余  48715.0  2019-02-16  收入   孙俊  股票基金  2019.0  2.0\n",
      "6   结余  18251.0  2019-02-16  收入   孙俊    现金  2019.0  2.0\n",
      "+++++++++++++++++++++++++\n"
     ]
    }
   ],
   "source": [
    "grouped = df1.groupby('年')\n",
    "for i,j in grouped:\n",
    "    print(i)\n",
    "    print(j)\n",
    "    print(\"+++++++++++++++++++++++++\")"
   ]
  },
  {
   "cell_type": "markdown",
   "metadata": {},
   "source": [
    "# 柱状图"
   ]
  },
  {
   "cell_type": "code",
   "execution_count": 45,
   "metadata": {},
   "outputs": [
    {
     "data": {
      "text/plain": [
       "2016"
      ]
     },
     "execution_count": 45,
     "metadata": {},
     "output_type": "execute_result"
    }
   ],
   "source": [
    "date_str = \"2016-11-30 13:53:59\"\n",
    "a=datetime.datetime.strptime(date_str, \"%Y-%m-%d %H:%M:%S\")\n",
    "a.year                          "
   ]
  },
  {
   "cell_type": "code",
   "execution_count": null,
   "metadata": {},
   "outputs": [],
   "source": [
    " df1=df1.groupby(['年'])['cnt_view','cnt_click'].sum()"
   ]
  }
 ],
 "metadata": {
  "kernelspec": {
   "display_name": "Python 3",
   "language": "python",
   "name": "python3"
  },
  "language_info": {
   "codemirror_mode": {
    "name": "ipython",
    "version": 3
   },
   "file_extension": ".py",
   "mimetype": "text/x-python",
   "name": "python",
   "nbconvert_exporter": "python",
   "pygments_lexer": "ipython3",
   "version": "3.6.2"
  },
  "toc": {
   "base_numbering": 1,
   "nav_menu": {},
   "number_sections": true,
   "sideBar": true,
   "skip_h1_title": false,
   "title_cell": "Table of Contents",
   "title_sidebar": "Contents",
   "toc_cell": false,
   "toc_position": {},
   "toc_section_display": true,
   "toc_window_display": true
  }
 },
 "nbformat": 4,
 "nbformat_minor": 2
}
